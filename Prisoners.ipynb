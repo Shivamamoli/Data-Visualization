{
 "cells": [
  {
   "cell_type": "markdown",
   "metadata": {},
   "source": [
    "# Prisoners Data Visualization"
   ]
  },
  {
   "cell_type": "markdown",
   "metadata": {},
   "source": [
    "### Step 1: Import the necessary libraries"
   ]
  },
  {
   "cell_type": "code",
   "execution_count": 2,
   "metadata": {},
   "outputs": [],
   "source": [
    "import pandas as pd"
   ]
  },
  {
   "cell_type": "code",
   "execution_count": 2,
   "metadata": {},
   "outputs": [],
   "source": [
    "data = pd.read_csv('Prisoners-Dataset.csv')"
   ]
  },
  {
   "cell_type": "markdown",
   "metadata": {},
   "source": [
    "### Step 2: Load the data and display first 5 and last 5 records"
   ]
  },
  {
   "cell_type": "code",
   "execution_count": 3,
   "metadata": {},
   "outputs": [
    {
     "data": {
      "text/html": [
       "<div>\n",
       "<style scoped>\n",
       "    .dataframe tbody tr th:only-of-type {\n",
       "        vertical-align: middle;\n",
       "    }\n",
       "\n",
       "    .dataframe tbody tr th {\n",
       "        vertical-align: top;\n",
       "    }\n",
       "\n",
       "    .dataframe thead th {\n",
       "        text-align: right;\n",
       "    }\n",
       "</style>\n",
       "<table border=\"1\" class=\"dataframe\">\n",
       "  <thead>\n",
       "    <tr style=\"text-align: right;\">\n",
       "      <th></th>\n",
       "      <th>STATE/UT</th>\n",
       "      <th>YEAR</th>\n",
       "      <th>No. of Inmates benefitted by Elementary Education</th>\n",
       "      <th>No. of Inmates benefitted by Adult Education</th>\n",
       "      <th>No. of Inmates benefitted by Higher Education</th>\n",
       "      <th>No. of Inmates benefitted by Computer Course</th>\n",
       "    </tr>\n",
       "  </thead>\n",
       "  <tbody>\n",
       "    <tr>\n",
       "      <th>0</th>\n",
       "      <td>Andhra Pradesh</td>\n",
       "      <td>2013</td>\n",
       "      <td>9480</td>\n",
       "      <td>13758</td>\n",
       "      <td>672</td>\n",
       "      <td>170</td>\n",
       "    </tr>\n",
       "    <tr>\n",
       "      <th>1</th>\n",
       "      <td>Arunachal Pradesh</td>\n",
       "      <td>2013</td>\n",
       "      <td>0</td>\n",
       "      <td>0</td>\n",
       "      <td>0</td>\n",
       "      <td>0</td>\n",
       "    </tr>\n",
       "    <tr>\n",
       "      <th>2</th>\n",
       "      <td>Assam</td>\n",
       "      <td>2013</td>\n",
       "      <td>676</td>\n",
       "      <td>750</td>\n",
       "      <td>14</td>\n",
       "      <td>30</td>\n",
       "    </tr>\n",
       "    <tr>\n",
       "      <th>3</th>\n",
       "      <td>Bihar</td>\n",
       "      <td>2013</td>\n",
       "      <td>1693</td>\n",
       "      <td>3013</td>\n",
       "      <td>125</td>\n",
       "      <td>1417</td>\n",
       "    </tr>\n",
       "    <tr>\n",
       "      <th>4</th>\n",
       "      <td>Chhatisgarh</td>\n",
       "      <td>2013</td>\n",
       "      <td>1664</td>\n",
       "      <td>1803</td>\n",
       "      <td>192</td>\n",
       "      <td>103</td>\n",
       "    </tr>\n",
       "  </tbody>\n",
       "</table>\n",
       "</div>"
      ],
      "text/plain": [
       "            STATE/UT  YEAR  No. of Inmates benefitted by Elementary Education  \\\n",
       "0     Andhra Pradesh  2013                                               9480   \n",
       "1  Arunachal Pradesh  2013                                                  0   \n",
       "2              Assam  2013                                                676   \n",
       "3              Bihar  2013                                               1693   \n",
       "4        Chhatisgarh  2013                                               1664   \n",
       "\n",
       "   No. of Inmates benefitted by Adult Education  \\\n",
       "0                                         13758   \n",
       "1                                             0   \n",
       "2                                           750   \n",
       "3                                          3013   \n",
       "4                                          1803   \n",
       "\n",
       "   No. of Inmates benefitted by Higher Education  \\\n",
       "0                                            672   \n",
       "1                                              0   \n",
       "2                                             14   \n",
       "3                                            125   \n",
       "4                                            192   \n",
       "\n",
       "   No. of Inmates benefitted by Computer Course  \n",
       "0                                           170  \n",
       "1                                             0  \n",
       "2                                            30  \n",
       "3                                          1417  \n",
       "4                                           103  "
      ]
     },
     "execution_count": 3,
     "metadata": {},
     "output_type": "execute_result"
    }
   ],
   "source": [
    "data.head()"
   ]
  },
  {
   "cell_type": "code",
   "execution_count": 4,
   "metadata": {},
   "outputs": [
    {
     "data": {
      "text/html": [
       "<div>\n",
       "<style scoped>\n",
       "    .dataframe tbody tr th:only-of-type {\n",
       "        vertical-align: middle;\n",
       "    }\n",
       "\n",
       "    .dataframe tbody tr th {\n",
       "        vertical-align: top;\n",
       "    }\n",
       "\n",
       "    .dataframe thead th {\n",
       "        text-align: right;\n",
       "    }\n",
       "</style>\n",
       "<table border=\"1\" class=\"dataframe\">\n",
       "  <thead>\n",
       "    <tr style=\"text-align: right;\">\n",
       "      <th></th>\n",
       "      <th>STATE/UT</th>\n",
       "      <th>YEAR</th>\n",
       "      <th>No. of Inmates benefitted by Elementary Education</th>\n",
       "      <th>No. of Inmates benefitted by Adult Education</th>\n",
       "      <th>No. of Inmates benefitted by Higher Education</th>\n",
       "      <th>No. of Inmates benefitted by Computer Course</th>\n",
       "    </tr>\n",
       "  </thead>\n",
       "  <tbody>\n",
       "    <tr>\n",
       "      <th>30</th>\n",
       "      <td>D &amp; N Haveli</td>\n",
       "      <td>2013</td>\n",
       "      <td>0</td>\n",
       "      <td>0</td>\n",
       "      <td>0</td>\n",
       "      <td>0</td>\n",
       "    </tr>\n",
       "    <tr>\n",
       "      <th>31</th>\n",
       "      <td>Daman &amp; Diu</td>\n",
       "      <td>2013</td>\n",
       "      <td>0</td>\n",
       "      <td>0</td>\n",
       "      <td>0</td>\n",
       "      <td>0</td>\n",
       "    </tr>\n",
       "    <tr>\n",
       "      <th>32</th>\n",
       "      <td>Delhi</td>\n",
       "      <td>2013</td>\n",
       "      <td>1458</td>\n",
       "      <td>1187</td>\n",
       "      <td>908</td>\n",
       "      <td>174</td>\n",
       "    </tr>\n",
       "    <tr>\n",
       "      <th>33</th>\n",
       "      <td>Lakshadweep</td>\n",
       "      <td>2013</td>\n",
       "      <td>0</td>\n",
       "      <td>0</td>\n",
       "      <td>0</td>\n",
       "      <td>0</td>\n",
       "    </tr>\n",
       "    <tr>\n",
       "      <th>34</th>\n",
       "      <td>Pondicherry</td>\n",
       "      <td>2013</td>\n",
       "      <td>0</td>\n",
       "      <td>0</td>\n",
       "      <td>0</td>\n",
       "      <td>0</td>\n",
       "    </tr>\n",
       "  </tbody>\n",
       "</table>\n",
       "</div>"
      ],
      "text/plain": [
       "        STATE/UT  YEAR  No. of Inmates benefitted by Elementary Education  \\\n",
       "30  D & N Haveli  2013                                                  0   \n",
       "31   Daman & Diu  2013                                                  0   \n",
       "32         Delhi  2013                                               1458   \n",
       "33   Lakshadweep  2013                                                  0   \n",
       "34   Pondicherry  2013                                                  0   \n",
       "\n",
       "    No. of Inmates benefitted by Adult Education  \\\n",
       "30                                             0   \n",
       "31                                             0   \n",
       "32                                          1187   \n",
       "33                                             0   \n",
       "34                                             0   \n",
       "\n",
       "    No. of Inmates benefitted by Higher Education  \\\n",
       "30                                              0   \n",
       "31                                              0   \n",
       "32                                            908   \n",
       "33                                              0   \n",
       "34                                              0   \n",
       "\n",
       "    No. of Inmates benefitted by Computer Course  \n",
       "30                                             0  \n",
       "31                                             0  \n",
       "32                                           174  \n",
       "33                                             0  \n",
       "34                                             0  "
      ]
     },
     "execution_count": 4,
     "metadata": {},
     "output_type": "execute_result"
    }
   ],
   "source": [
    "data.tail()"
   ]
  },
  {
   "cell_type": "markdown",
   "metadata": {},
   "source": [
    "### Step 3: Describe the data"
   ]
  },
  {
   "cell_type": "code",
   "execution_count": 5,
   "metadata": {},
   "outputs": [
    {
     "data": {
      "text/html": [
       "<div>\n",
       "<style scoped>\n",
       "    .dataframe tbody tr th:only-of-type {\n",
       "        vertical-align: middle;\n",
       "    }\n",
       "\n",
       "    .dataframe tbody tr th {\n",
       "        vertical-align: top;\n",
       "    }\n",
       "\n",
       "    .dataframe thead th {\n",
       "        text-align: right;\n",
       "    }\n",
       "</style>\n",
       "<table border=\"1\" class=\"dataframe\">\n",
       "  <thead>\n",
       "    <tr style=\"text-align: right;\">\n",
       "      <th></th>\n",
       "      <th>YEAR</th>\n",
       "      <th>No. of Inmates benefitted by Elementary Education</th>\n",
       "      <th>No. of Inmates benefitted by Adult Education</th>\n",
       "      <th>No. of Inmates benefitted by Higher Education</th>\n",
       "      <th>No. of Inmates benefitted by Computer Course</th>\n",
       "    </tr>\n",
       "  </thead>\n",
       "  <tbody>\n",
       "    <tr>\n",
       "      <th>count</th>\n",
       "      <td>35.0</td>\n",
       "      <td>35.000000</td>\n",
       "      <td>35.000000</td>\n",
       "      <td>35.000000</td>\n",
       "      <td>35.000000</td>\n",
       "    </tr>\n",
       "    <tr>\n",
       "      <th>mean</th>\n",
       "      <td>2013.0</td>\n",
       "      <td>1057.914286</td>\n",
       "      <td>1534.857143</td>\n",
       "      <td>237.457143</td>\n",
       "      <td>210.171429</td>\n",
       "    </tr>\n",
       "    <tr>\n",
       "      <th>std</th>\n",
       "      <td>0.0</td>\n",
       "      <td>2078.196777</td>\n",
       "      <td>3022.110503</td>\n",
       "      <td>375.614191</td>\n",
       "      <td>359.117340</td>\n",
       "    </tr>\n",
       "    <tr>\n",
       "      <th>min</th>\n",
       "      <td>2013.0</td>\n",
       "      <td>0.000000</td>\n",
       "      <td>0.000000</td>\n",
       "      <td>0.000000</td>\n",
       "      <td>0.000000</td>\n",
       "    </tr>\n",
       "    <tr>\n",
       "      <th>25%</th>\n",
       "      <td>2013.0</td>\n",
       "      <td>0.000000</td>\n",
       "      <td>6.500000</td>\n",
       "      <td>2.000000</td>\n",
       "      <td>0.000000</td>\n",
       "    </tr>\n",
       "    <tr>\n",
       "      <th>50%</th>\n",
       "      <td>2013.0</td>\n",
       "      <td>167.000000</td>\n",
       "      <td>237.000000</td>\n",
       "      <td>33.000000</td>\n",
       "      <td>38.000000</td>\n",
       "    </tr>\n",
       "    <tr>\n",
       "      <th>75%</th>\n",
       "      <td>2013.0</td>\n",
       "      <td>1294.500000</td>\n",
       "      <td>1733.500000</td>\n",
       "      <td>234.500000</td>\n",
       "      <td>227.500000</td>\n",
       "    </tr>\n",
       "    <tr>\n",
       "      <th>max</th>\n",
       "      <td>2013.0</td>\n",
       "      <td>9480.000000</td>\n",
       "      <td>13758.000000</td>\n",
       "      <td>1353.000000</td>\n",
       "      <td>1417.000000</td>\n",
       "    </tr>\n",
       "  </tbody>\n",
       "</table>\n",
       "</div>"
      ],
      "text/plain": [
       "         YEAR  No. of Inmates benefitted by Elementary Education  \\\n",
       "count    35.0                                          35.000000   \n",
       "mean   2013.0                                        1057.914286   \n",
       "std       0.0                                        2078.196777   \n",
       "min    2013.0                                           0.000000   \n",
       "25%    2013.0                                           0.000000   \n",
       "50%    2013.0                                         167.000000   \n",
       "75%    2013.0                                        1294.500000   \n",
       "max    2013.0                                        9480.000000   \n",
       "\n",
       "       No. of Inmates benefitted by Adult Education  \\\n",
       "count                                     35.000000   \n",
       "mean                                    1534.857143   \n",
       "std                                     3022.110503   \n",
       "min                                        0.000000   \n",
       "25%                                        6.500000   \n",
       "50%                                      237.000000   \n",
       "75%                                     1733.500000   \n",
       "max                                    13758.000000   \n",
       "\n",
       "       No. of Inmates benefitted by Higher Education  \\\n",
       "count                                      35.000000   \n",
       "mean                                      237.457143   \n",
       "std                                       375.614191   \n",
       "min                                         0.000000   \n",
       "25%                                         2.000000   \n",
       "50%                                        33.000000   \n",
       "75%                                       234.500000   \n",
       "max                                      1353.000000   \n",
       "\n",
       "       No. of Inmates benefitted by Computer Course  \n",
       "count                                     35.000000  \n",
       "mean                                     210.171429  \n",
       "std                                      359.117340  \n",
       "min                                        0.000000  \n",
       "25%                                        0.000000  \n",
       "50%                                       38.000000  \n",
       "75%                                      227.500000  \n",
       "max                                     1417.000000  "
      ]
     },
     "execution_count": 5,
     "metadata": {},
     "output_type": "execute_result"
    }
   ],
   "source": [
    "data.describe()"
   ]
  },
  {
   "cell_type": "markdown",
   "metadata": {},
   "source": [
    "### Step 4: Create a column 'total_benefitted' that shows sum of inmates with respect to each State/UT"
   ]
  },
  {
   "cell_type": "code",
   "execution_count": 6,
   "metadata": {},
   "outputs": [],
   "source": [
    "data.drop(['YEAR'], axis=1, inplace=True)"
   ]
  },
  {
   "cell_type": "code",
   "execution_count": 7,
   "metadata": {},
   "outputs": [],
   "source": [
    "data['total'] = data.sum(axis=1)"
   ]
  },
  {
   "cell_type": "code",
   "execution_count": 8,
   "metadata": {},
   "outputs": [
    {
     "data": {
      "text/html": [
       "<div>\n",
       "<style scoped>\n",
       "    .dataframe tbody tr th:only-of-type {\n",
       "        vertical-align: middle;\n",
       "    }\n",
       "\n",
       "    .dataframe tbody tr th {\n",
       "        vertical-align: top;\n",
       "    }\n",
       "\n",
       "    .dataframe thead th {\n",
       "        text-align: right;\n",
       "    }\n",
       "</style>\n",
       "<table border=\"1\" class=\"dataframe\">\n",
       "  <thead>\n",
       "    <tr style=\"text-align: right;\">\n",
       "      <th></th>\n",
       "      <th>STATE/UT</th>\n",
       "      <th>No. of Inmates benefitted by Elementary Education</th>\n",
       "      <th>No. of Inmates benefitted by Adult Education</th>\n",
       "      <th>No. of Inmates benefitted by Higher Education</th>\n",
       "      <th>No. of Inmates benefitted by Computer Course</th>\n",
       "      <th>total</th>\n",
       "    </tr>\n",
       "  </thead>\n",
       "  <tbody>\n",
       "    <tr>\n",
       "      <th>0</th>\n",
       "      <td>Andhra Pradesh</td>\n",
       "      <td>9480</td>\n",
       "      <td>13758</td>\n",
       "      <td>672</td>\n",
       "      <td>170</td>\n",
       "      <td>24080</td>\n",
       "    </tr>\n",
       "    <tr>\n",
       "      <th>1</th>\n",
       "      <td>Arunachal Pradesh</td>\n",
       "      <td>0</td>\n",
       "      <td>0</td>\n",
       "      <td>0</td>\n",
       "      <td>0</td>\n",
       "      <td>0</td>\n",
       "    </tr>\n",
       "    <tr>\n",
       "      <th>2</th>\n",
       "      <td>Assam</td>\n",
       "      <td>676</td>\n",
       "      <td>750</td>\n",
       "      <td>14</td>\n",
       "      <td>30</td>\n",
       "      <td>1470</td>\n",
       "    </tr>\n",
       "    <tr>\n",
       "      <th>3</th>\n",
       "      <td>Bihar</td>\n",
       "      <td>1693</td>\n",
       "      <td>3013</td>\n",
       "      <td>125</td>\n",
       "      <td>1417</td>\n",
       "      <td>6248</td>\n",
       "    </tr>\n",
       "    <tr>\n",
       "      <th>4</th>\n",
       "      <td>Chhatisgarh</td>\n",
       "      <td>1664</td>\n",
       "      <td>1803</td>\n",
       "      <td>192</td>\n",
       "      <td>103</td>\n",
       "      <td>3762</td>\n",
       "    </tr>\n",
       "  </tbody>\n",
       "</table>\n",
       "</div>"
      ],
      "text/plain": [
       "            STATE/UT  No. of Inmates benefitted by Elementary Education  \\\n",
       "0     Andhra Pradesh                                               9480   \n",
       "1  Arunachal Pradesh                                                  0   \n",
       "2              Assam                                                676   \n",
       "3              Bihar                                               1693   \n",
       "4        Chhatisgarh                                               1664   \n",
       "\n",
       "   No. of Inmates benefitted by Adult Education  \\\n",
       "0                                         13758   \n",
       "1                                             0   \n",
       "2                                           750   \n",
       "3                                          3013   \n",
       "4                                          1803   \n",
       "\n",
       "   No. of Inmates benefitted by Higher Education  \\\n",
       "0                                            672   \n",
       "1                                              0   \n",
       "2                                             14   \n",
       "3                                            125   \n",
       "4                                            192   \n",
       "\n",
       "   No. of Inmates benefitted by Computer Course  total  \n",
       "0                                           170  24080  \n",
       "1                                             0      0  \n",
       "2                                            30   1470  \n",
       "3                                          1417   6248  \n",
       "4                                           103   3762  "
      ]
     },
     "execution_count": 8,
     "metadata": {},
     "output_type": "execute_result"
    }
   ],
   "source": [
    "data.head()"
   ]
  },
  {
   "cell_type": "markdown",
   "metadata": {},
   "source": [
    "### Step 5: Create a bar char with total benefitted inmates values in descending order"
   ]
  },
  {
   "cell_type": "code",
   "execution_count": 10,
   "metadata": {},
   "outputs": [],
   "source": [
    "import matplotlib.pyplot as plt"
   ]
  },
  {
   "cell_type": "code",
   "execution_count": 11,
   "metadata": {},
   "outputs": [],
   "source": [
    "data = data.set_index('STATE/UT')"
   ]
  },
  {
   "cell_type": "code",
   "execution_count": 12,
   "metadata": {},
   "outputs": [],
   "source": [
    "new_data = data.sort_values('total' , ascending=False)[:8]"
   ]
  },
  {
   "cell_type": "code",
   "execution_count": 17,
   "metadata": {},
   "outputs": [
    {
     "data": {
      "text/html": [
       "<div>\n",
       "<style scoped>\n",
       "    .dataframe tbody tr th:only-of-type {\n",
       "        vertical-align: middle;\n",
       "    }\n",
       "\n",
       "    .dataframe tbody tr th {\n",
       "        vertical-align: top;\n",
       "    }\n",
       "\n",
       "    .dataframe thead th {\n",
       "        text-align: right;\n",
       "    }\n",
       "</style>\n",
       "<table border=\"1\" class=\"dataframe\">\n",
       "  <thead>\n",
       "    <tr style=\"text-align: right;\">\n",
       "      <th></th>\n",
       "      <th>No. of Inmates benefitted by Elementary Education</th>\n",
       "      <th>No. of Inmates benefitted by Adult Education</th>\n",
       "      <th>No. of Inmates benefitted by Higher Education</th>\n",
       "      <th>No. of Inmates benefitted by Computer Course</th>\n",
       "      <th>total</th>\n",
       "    </tr>\n",
       "    <tr>\n",
       "      <th>STATE/UT</th>\n",
       "      <th></th>\n",
       "      <th></th>\n",
       "      <th></th>\n",
       "      <th></th>\n",
       "      <th></th>\n",
       "    </tr>\n",
       "  </thead>\n",
       "  <tbody>\n",
       "    <tr>\n",
       "      <th>Andhra Pradesh</th>\n",
       "      <td>9480</td>\n",
       "      <td>13758</td>\n",
       "      <td>672</td>\n",
       "      <td>170</td>\n",
       "      <td>24080</td>\n",
       "    </tr>\n",
       "    <tr>\n",
       "      <th>Uttar Pradesh</th>\n",
       "      <td>7876</td>\n",
       "      <td>8093</td>\n",
       "      <td>1353</td>\n",
       "      <td>212</td>\n",
       "      <td>17534</td>\n",
       "    </tr>\n",
       "    <tr>\n",
       "      <th>Madhya Pradesh</th>\n",
       "      <td>1978</td>\n",
       "      <td>9574</td>\n",
       "      <td>301</td>\n",
       "      <td>151</td>\n",
       "      <td>12004</td>\n",
       "    </tr>\n",
       "    <tr>\n",
       "      <th>Gujarat</th>\n",
       "      <td>2310</td>\n",
       "      <td>3133</td>\n",
       "      <td>875</td>\n",
       "      <td>966</td>\n",
       "      <td>7284</td>\n",
       "    </tr>\n",
       "    <tr>\n",
       "      <th>Jharkhand</th>\n",
       "      <td>3008</td>\n",
       "      <td>2595</td>\n",
       "      <td>138</td>\n",
       "      <td>574</td>\n",
       "      <td>6315</td>\n",
       "    </tr>\n",
       "    <tr>\n",
       "      <th>Bihar</th>\n",
       "      <td>1693</td>\n",
       "      <td>3013</td>\n",
       "      <td>125</td>\n",
       "      <td>1417</td>\n",
       "      <td>6248</td>\n",
       "    </tr>\n",
       "    <tr>\n",
       "      <th>Maharashtra</th>\n",
       "      <td>346</td>\n",
       "      <td>2743</td>\n",
       "      <td>882</td>\n",
       "      <td>1330</td>\n",
       "      <td>5301</td>\n",
       "    </tr>\n",
       "    <tr>\n",
       "      <th>West Bengal</th>\n",
       "      <td>2023</td>\n",
       "      <td>1889</td>\n",
       "      <td>123</td>\n",
       "      <td>460</td>\n",
       "      <td>4495</td>\n",
       "    </tr>\n",
       "  </tbody>\n",
       "</table>\n",
       "</div>"
      ],
      "text/plain": [
       "                No. of Inmates benefitted by Elementary Education  \\\n",
       "STATE/UT                                                            \n",
       "Andhra Pradesh                                               9480   \n",
       "Uttar Pradesh                                                7876   \n",
       "Madhya Pradesh                                               1978   \n",
       "Gujarat                                                      2310   \n",
       "Jharkhand                                                    3008   \n",
       "Bihar                                                        1693   \n",
       "Maharashtra                                                   346   \n",
       "West Bengal                                                  2023   \n",
       "\n",
       "                No. of Inmates benefitted by Adult Education  \\\n",
       "STATE/UT                                                       \n",
       "Andhra Pradesh                                         13758   \n",
       "Uttar Pradesh                                           8093   \n",
       "Madhya Pradesh                                          9574   \n",
       "Gujarat                                                 3133   \n",
       "Jharkhand                                               2595   \n",
       "Bihar                                                   3013   \n",
       "Maharashtra                                             2743   \n",
       "West Bengal                                             1889   \n",
       "\n",
       "                No. of Inmates benefitted by Higher Education  \\\n",
       "STATE/UT                                                        \n",
       "Andhra Pradesh                                            672   \n",
       "Uttar Pradesh                                            1353   \n",
       "Madhya Pradesh                                            301   \n",
       "Gujarat                                                   875   \n",
       "Jharkhand                                                 138   \n",
       "Bihar                                                     125   \n",
       "Maharashtra                                               882   \n",
       "West Bengal                                               123   \n",
       "\n",
       "                No. of Inmates benefitted by Computer Course  total  \n",
       "STATE/UT                                                             \n",
       "Andhra Pradesh                                           170  24080  \n",
       "Uttar Pradesh                                            212  17534  \n",
       "Madhya Pradesh                                           151  12004  \n",
       "Gujarat                                                  966   7284  \n",
       "Jharkhand                                                574   6315  \n",
       "Bihar                                                   1417   6248  \n",
       "Maharashtra                                             1330   5301  \n",
       "West Bengal                                              460   4495  "
      ]
     },
     "execution_count": 17,
     "metadata": {},
     "output_type": "execute_result"
    }
   ],
   "source": [
    "new_data.head(8)"
   ]
  },
  {
   "cell_type": "code",
   "execution_count": 16,
   "metadata": {},
   "outputs": [
    {
     "data": {
      "text/plain": [
       "<matplotlib.axes._subplots.AxesSubplot at 0x148e6f679e8>"
      ]
     },
     "execution_count": 16,
     "metadata": {},
     "output_type": "execute_result"
    },
    {
     "data": {
      "image/png": "[encoded data removed]",
      "text/plain": [
       "<Figure size 432x288 with 1 Axes>"
      ]
     },
     "metadata": {
      "needs_background": "light"
     },
     "output_type": "display_data"
    }
   ],
   "source": [
    "new_data['total'].plot(kind='bar')"
   ]
  },
  {
   "cell_type": "code",
   "execution_count": 18,
   "metadata": {},
   "outputs": [],
   "source": [
    "import seaborn as sns"
   ]
  },
  {
   "cell_type": "code",
   "execution_count": 19,
   "metadata": {},
   "outputs": [],
   "source": [
    "sns.set()"
   ]
  },
  {
   "cell_type": "code",
   "execution_count": 20,
   "metadata": {},
   "outputs": [],
   "source": [
    "font = { 'size' : 20}"
   ]
  },
  {
   "cell_type": "code",
   "execution_count": 1,
   "metadata": {},
   "outputs": [
    {
     "ename": "NameError",
     "evalue": "name 'plt' is not defined",
     "output_type": "error",
     "traceback": [
      "\u001b[1;31m---------------------------------------------------------------------------\u001b[0m",
      "\u001b[1;31mNameError\u001b[0m                                 Traceback (most recent call last)",
      "\u001b[1;32m<ipython-input-1-a243206e65e3>\u001b[0m in \u001b[0;36m<module>\u001b[1;34m\u001b[0m\n\u001b[1;32m----> 1\u001b[1;33m \u001b[0mplt\u001b[0m\u001b[1;33m.\u001b[0m\u001b[0mfigure\u001b[0m\u001b[1;33m(\u001b[0m\u001b[0mfigsize\u001b[0m\u001b[1;33m=\u001b[0m\u001b[1;33m(\u001b[0m\u001b[1;36m12\u001b[0m\u001b[1;33m,\u001b[0m\u001b[1;36m7\u001b[0m\u001b[1;33m)\u001b[0m\u001b[1;33m)\u001b[0m\u001b[1;33m\u001b[0m\u001b[1;33m\u001b[0m\u001b[0m\n\u001b[0m\u001b[0;32m      2\u001b[0m \u001b[1;31m# new_data['total'].plot(kind='bar')\u001b[0m\u001b[1;33m\u001b[0m\u001b[1;33m\u001b[0m\u001b[1;33m\u001b[0m\u001b[0m\n\u001b[0;32m      3\u001b[0m \u001b[1;31m# plt.xticks(rotation=30)\u001b[0m\u001b[1;33m\u001b[0m\u001b[1;33m\u001b[0m\u001b[1;33m\u001b[0m\u001b[0m\n\u001b[0;32m      4\u001b[0m \u001b[1;31m# plt.xlabel('State Name', fontdict=font)\u001b[0m\u001b[1;33m\u001b[0m\u001b[1;33m\u001b[0m\u001b[1;33m\u001b[0m\u001b[0m\n\u001b[0;32m      5\u001b[0m \u001b[1;31m# plt.ylabel('Total Inmates', fontdict= font)\u001b[0m\u001b[1;33m\u001b[0m\u001b[1;33m\u001b[0m\u001b[1;33m\u001b[0m\u001b[0m\n",
      "\u001b[1;31mNameError\u001b[0m: name 'plt' is not defined"
     ]
    }
   ],
   "source": [
    "plt.figure(figsize=(12,7))\n",
    "# new_data['total'].plot(kind='bar')\n",
    "# plt.xticks(rotation=30)\n",
    "# plt.xlabel('State Name', fontdict=font)\n",
    "# plt.ylabel('Total Inmates', fontdict= font)\n",
    "# plt.title('State vs Inmates', fontdict=font)\n",
    "# plt.savefig('state-vs-inmates.png')"
   ]
  },
  {
   "cell_type": "markdown",
   "metadata": {},
   "source": [
    "### Step 6: Create a pie chart to show ratio among different modes of benefits"
   ]
  },
  {
   "cell_type": "code",
   "execution_count": 28,
   "metadata": {},
   "outputs": [
    {
     "data": {
      "text/plain": [
       "Index(['No. of Inmates benefitted by Elementary Education',\n",
       "       'No. of Inmates benefitted by Adult Education',\n",
       "       'No. of Inmates benefitted by Higher Education',\n",
       "       'No. of Inmates benefitted by Computer Course', 'total'],\n",
       "      dtype='object')"
      ]
     },
     "execution_count": 28,
     "metadata": {},
     "output_type": "execute_result"
    }
   ],
   "source": [
    "data.columns"
   ]
  },
  {
   "cell_type": "code",
   "execution_count": 30,
   "metadata": {},
   "outputs": [],
   "source": [
    "data.rename({'No. of Inmates benefitted by Elementary Education' : 'Elementary' ,\n",
    "            'No. of Inmates benefitted by Adult Education' : 'Adult', 'No. of Inmates benefitted by Higher Education' : 'Higher',  'No. of Inmates benefitted by Computer Course' : 'Computer' }, axis=1, inplace=True)"
   ]
  },
  {
   "cell_type": "code",
   "execution_count": 31,
   "metadata": {},
   "outputs": [
    {
     "data": {
      "text/html": [
       "<div>\n",
       "<style scoped>\n",
       "    .dataframe tbody tr th:only-of-type {\n",
       "        vertical-align: middle;\n",
       "    }\n",
       "\n",
       "    .dataframe tbody tr th {\n",
       "        vertical-align: top;\n",
       "    }\n",
       "\n",
       "    .dataframe thead th {\n",
       "        text-align: right;\n",
       "    }\n",
       "</style>\n",
       "<table border=\"1\" class=\"dataframe\">\n",
       "  <thead>\n",
       "    <tr style=\"text-align: right;\">\n",
       "      <th></th>\n",
       "      <th>Elementary</th>\n",
       "      <th>Adult</th>\n",
       "      <th>Higher</th>\n",
       "      <th>Computer</th>\n",
       "      <th>total</th>\n",
       "    </tr>\n",
       "    <tr>\n",
       "      <th>STATE/UT</th>\n",
       "      <th></th>\n",
       "      <th></th>\n",
       "      <th></th>\n",
       "      <th></th>\n",
       "      <th></th>\n",
       "    </tr>\n",
       "  </thead>\n",
       "  <tbody>\n",
       "    <tr>\n",
       "      <th>Andhra Pradesh</th>\n",
       "      <td>9480</td>\n",
       "      <td>13758</td>\n",
       "      <td>672</td>\n",
       "      <td>170</td>\n",
       "      <td>24080</td>\n",
       "    </tr>\n",
       "    <tr>\n",
       "      <th>Arunachal Pradesh</th>\n",
       "      <td>0</td>\n",
       "      <td>0</td>\n",
       "      <td>0</td>\n",
       "      <td>0</td>\n",
       "      <td>0</td>\n",
       "    </tr>\n",
       "    <tr>\n",
       "      <th>Assam</th>\n",
       "      <td>676</td>\n",
       "      <td>750</td>\n",
       "      <td>14</td>\n",
       "      <td>30</td>\n",
       "      <td>1470</td>\n",
       "    </tr>\n",
       "    <tr>\n",
       "      <th>Bihar</th>\n",
       "      <td>1693</td>\n",
       "      <td>3013</td>\n",
       "      <td>125</td>\n",
       "      <td>1417</td>\n",
       "      <td>6248</td>\n",
       "    </tr>\n",
       "    <tr>\n",
       "      <th>Chhatisgarh</th>\n",
       "      <td>1664</td>\n",
       "      <td>1803</td>\n",
       "      <td>192</td>\n",
       "      <td>103</td>\n",
       "      <td>3762</td>\n",
       "    </tr>\n",
       "  </tbody>\n",
       "</table>\n",
       "</div>"
      ],
      "text/plain": [
       "                   Elementary  Adult  Higher  Computer  total\n",
       "STATE/UT                                                     \n",
       "Andhra Pradesh           9480  13758     672       170  24080\n",
       "Arunachal Pradesh           0      0       0         0      0\n",
       "Assam                     676    750      14        30   1470\n",
       "Bihar                    1693   3013     125      1417   6248\n",
       "Chhatisgarh              1664   1803     192       103   3762"
      ]
     },
     "execution_count": 31,
     "metadata": {},
     "output_type": "execute_result"
    }
   ],
   "source": [
    "data.head()"
   ]
  },
  {
   "cell_type": "code",
   "execution_count": 33,
   "metadata": {},
   "outputs": [],
   "source": [
    "elementary = data['Elementary'].sum(axis=0)"
   ]
  },
  {
   "cell_type": "code",
   "execution_count": 34,
   "metadata": {},
   "outputs": [
    {
     "data": {
      "text/plain": [
       "37027"
      ]
     },
     "execution_count": 34,
     "metadata": {},
     "output_type": "execute_result"
    }
   ],
   "source": [
    "elementary"
   ]
  },
  {
   "cell_type": "code",
   "execution_count": 35,
   "metadata": {},
   "outputs": [],
   "source": [
    "adult = data['Adult'].sum(axis=0)\n",
    "higher= data['Higher'].sum(axis=0)\n",
    "computer = data['Computer'].sum(axis=0)"
   ]
  },
  {
   "cell_type": "code",
   "execution_count": 36,
   "metadata": {},
   "outputs": [],
   "source": [
    "total_benefits = { 'Elementary' : elementary, 'Adult' : adult, 'Higher': higher, 'Computer':computer}"
   ]
  },
  {
   "cell_type": "code",
   "execution_count": 37,
   "metadata": {},
   "outputs": [],
   "source": [
    "total_benefits = pd.Series(total_benefits)"
   ]
  },
  {
   "cell_type": "code",
   "execution_count": 38,
   "metadata": {},
   "outputs": [],
   "source": [
    "total_benefits = total_benefits.sort_values(ascending=False)"
   ]
  },
  {
   "cell_type": "code",
   "execution_count": 39,
   "metadata": {},
   "outputs": [
    {
     "data": {
      "text/plain": [
       "Adult         53720\n",
       "Elementary    37027\n",
       "Higher         8311\n",
       "Computer       7356\n",
       "dtype: int64"
      ]
     },
     "execution_count": 39,
     "metadata": {},
     "output_type": "execute_result"
    }
   ],
   "source": [
    "total_benefits"
   ]
  },
  {
   "cell_type": "code",
   "execution_count": 40,
   "metadata": {},
   "outputs": [
    {
     "data": {
      "text/plain": [
       "([<matplotlib.patches.Wedge at 0x148e808d898>,\n",
       "  <matplotlib.patches.Wedge at 0x148e808df98>,\n",
       "  <matplotlib.patches.Wedge at 0x148e80976d8>,\n",
       "  <matplotlib.patches.Wedge at 0x148e8097dd8>],\n",
       " [Text(-0.016658933777995516, 1.0998738472776688, 'Adult'),\n",
       "  Text(-0.47586704130371094, -0.9917411754086106, 'Elementary'),\n",
       "  Text(0.8555421853426585, -0.6914098416273147, 'Higher'),\n",
       "  Text(1.0741631195981802, -0.23700968861020405, 'Computer')],\n",
       " [Text(-0.009086691151633916, 0.5999311894241829, '50.48'),\n",
       "  Text(-0.25956384071111505, -0.5409497320410602, '34.80'),\n",
       "  Text(0.4666593738232682, -0.37713264088762616, '7.81'),\n",
       "  Text(0.5859071561444619, -0.1292780119692022, '6.91')])"
      ]
     },
     "execution_count": 40,
     "metadata": {},
     "output_type": "execute_result"
    },
    {
     "data": {
      "image/png": "[encoded data removed]",
      "text/plain": [
       "<Figure size 432x288 with 1 Axes>"
      ]
     },
     "metadata": {},
     "output_type": "display_data"
    }
   ],
   "source": [
    "plt.pie(total_benefits, labels= total_benefits.index, autopct ='%.2f')"
   ]
  },
  {
   "cell_type": "code",
   "execution_count": null,
   "metadata": {},
   "outputs": [],
   "source": []
  },
  {
   "cell_type": "markdown",
   "metadata": {},
   "source": [
    "### Step 7: For the 5 highest benefitted states, create \n",
    "1. Bar chart. \n",
    "2. Stacked bar chart \n",
    "3. 100% stacked chart"
   ]
  },
  {
   "cell_type": "code",
   "execution_count": 41,
   "metadata": {},
   "outputs": [],
   "source": [
    "five_highest_states = data.copy()"
   ]
  },
  {
   "cell_type": "code",
   "execution_count": 42,
   "metadata": {},
   "outputs": [],
   "source": [
    "five_highest_states = five_highest_states.sort_values('total' , ascending=False)"
   ]
  },
  {
   "cell_type": "code",
   "execution_count": 44,
   "metadata": {},
   "outputs": [],
   "source": [
    "five_highest_states = five_highest_states[:5]"
   ]
  },
  {
   "cell_type": "code",
   "execution_count": 45,
   "metadata": {},
   "outputs": [
    {
     "data": {
      "text/html": [
       "<div>\n",
       "<style scoped>\n",
       "    .dataframe tbody tr th:only-of-type {\n",
       "        vertical-align: middle;\n",
       "    }\n",
       "\n",
       "    .dataframe tbody tr th {\n",
       "        vertical-align: top;\n",
       "    }\n",
       "\n",
       "    .dataframe thead th {\n",
       "        text-align: right;\n",
       "    }\n",
       "</style>\n",
       "<table border=\"1\" class=\"dataframe\">\n",
       "  <thead>\n",
       "    <tr style=\"text-align: right;\">\n",
       "      <th></th>\n",
       "      <th>Elementary</th>\n",
       "      <th>Adult</th>\n",
       "      <th>Higher</th>\n",
       "      <th>Computer</th>\n",
       "      <th>total</th>\n",
       "    </tr>\n",
       "    <tr>\n",
       "      <th>STATE/UT</th>\n",
       "      <th></th>\n",
       "      <th></th>\n",
       "      <th></th>\n",
       "      <th></th>\n",
       "      <th></th>\n",
       "    </tr>\n",
       "  </thead>\n",
       "  <tbody>\n",
       "    <tr>\n",
       "      <th>Andhra Pradesh</th>\n",
       "      <td>9480</td>\n",
       "      <td>13758</td>\n",
       "      <td>672</td>\n",
       "      <td>170</td>\n",
       "      <td>24080</td>\n",
       "    </tr>\n",
       "    <tr>\n",
       "      <th>Uttar Pradesh</th>\n",
       "      <td>7876</td>\n",
       "      <td>8093</td>\n",
       "      <td>1353</td>\n",
       "      <td>212</td>\n",
       "      <td>17534</td>\n",
       "    </tr>\n",
       "    <tr>\n",
       "      <th>Madhya Pradesh</th>\n",
       "      <td>1978</td>\n",
       "      <td>9574</td>\n",
       "      <td>301</td>\n",
       "      <td>151</td>\n",
       "      <td>12004</td>\n",
       "    </tr>\n",
       "    <tr>\n",
       "      <th>Gujarat</th>\n",
       "      <td>2310</td>\n",
       "      <td>3133</td>\n",
       "      <td>875</td>\n",
       "      <td>966</td>\n",
       "      <td>7284</td>\n",
       "    </tr>\n",
       "    <tr>\n",
       "      <th>Jharkhand</th>\n",
       "      <td>3008</td>\n",
       "      <td>2595</td>\n",
       "      <td>138</td>\n",
       "      <td>574</td>\n",
       "      <td>6315</td>\n",
       "    </tr>\n",
       "  </tbody>\n",
       "</table>\n",
       "</div>"
      ],
      "text/plain": [
       "                Elementary  Adult  Higher  Computer  total\n",
       "STATE/UT                                                  \n",
       "Andhra Pradesh        9480  13758     672       170  24080\n",
       "Uttar Pradesh         7876   8093    1353       212  17534\n",
       "Madhya Pradesh        1978   9574     301       151  12004\n",
       "Gujarat               2310   3133     875       966   7284\n",
       "Jharkhand             3008   2595     138       574   6315"
      ]
     },
     "execution_count": 45,
     "metadata": {},
     "output_type": "execute_result"
    }
   ],
   "source": [
    "five_highest_states"
   ]
  },
  {
   "cell_type": "code",
   "execution_count": 46,
   "metadata": {},
   "outputs": [],
   "source": [
    "five_highest_states.drop('total', axis=1, inplace=True)"
   ]
  },
  {
   "cell_type": "code",
   "execution_count": 47,
   "metadata": {},
   "outputs": [
    {
     "data": {
      "text/html": [
       "<div>\n",
       "<style scoped>\n",
       "    .dataframe tbody tr th:only-of-type {\n",
       "        vertical-align: middle;\n",
       "    }\n",
       "\n",
       "    .dataframe tbody tr th {\n",
       "        vertical-align: top;\n",
       "    }\n",
       "\n",
       "    .dataframe thead th {\n",
       "        text-align: right;\n",
       "    }\n",
       "</style>\n",
       "<table border=\"1\" class=\"dataframe\">\n",
       "  <thead>\n",
       "    <tr style=\"text-align: right;\">\n",
       "      <th></th>\n",
       "      <th>Elementary</th>\n",
       "      <th>Adult</th>\n",
       "      <th>Higher</th>\n",
       "      <th>Computer</th>\n",
       "    </tr>\n",
       "    <tr>\n",
       "      <th>STATE/UT</th>\n",
       "      <th></th>\n",
       "      <th></th>\n",
       "      <th></th>\n",
       "      <th></th>\n",
       "    </tr>\n",
       "  </thead>\n",
       "  <tbody>\n",
       "    <tr>\n",
       "      <th>Andhra Pradesh</th>\n",
       "      <td>9480</td>\n",
       "      <td>13758</td>\n",
       "      <td>672</td>\n",
       "      <td>170</td>\n",
       "    </tr>\n",
       "    <tr>\n",
       "      <th>Uttar Pradesh</th>\n",
       "      <td>7876</td>\n",
       "      <td>8093</td>\n",
       "      <td>1353</td>\n",
       "      <td>212</td>\n",
       "    </tr>\n",
       "    <tr>\n",
       "      <th>Madhya Pradesh</th>\n",
       "      <td>1978</td>\n",
       "      <td>9574</td>\n",
       "      <td>301</td>\n",
       "      <td>151</td>\n",
       "    </tr>\n",
       "    <tr>\n",
       "      <th>Gujarat</th>\n",
       "      <td>2310</td>\n",
       "      <td>3133</td>\n",
       "      <td>875</td>\n",
       "      <td>966</td>\n",
       "    </tr>\n",
       "    <tr>\n",
       "      <th>Jharkhand</th>\n",
       "      <td>3008</td>\n",
       "      <td>2595</td>\n",
       "      <td>138</td>\n",
       "      <td>574</td>\n",
       "    </tr>\n",
       "  </tbody>\n",
       "</table>\n",
       "</div>"
      ],
      "text/plain": [
       "                Elementary  Adult  Higher  Computer\n",
       "STATE/UT                                           \n",
       "Andhra Pradesh        9480  13758     672       170\n",
       "Uttar Pradesh         7876   8093    1353       212\n",
       "Madhya Pradesh        1978   9574     301       151\n",
       "Gujarat               2310   3133     875       966\n",
       "Jharkhand             3008   2595     138       574"
      ]
     },
     "execution_count": 47,
     "metadata": {},
     "output_type": "execute_result"
    }
   ],
   "source": [
    "five_highest_states"
   ]
  },
  {
   "cell_type": "code",
   "execution_count": 48,
   "metadata": {},
   "outputs": [
    {
     "data": {
      "text/plain": [
       "<matplotlib.axes._subplots.AxesSubplot at 0x148e804ba90>"
      ]
     },
     "execution_count": 48,
     "metadata": {},
     "output_type": "execute_result"
    },
    {
     "data": {
      "image/png": "[encoded data removed]",
      "text/plain": [
       "<Figure size 432x288 with 1 Axes>"
      ]
     },
     "metadata": {},
     "output_type": "display_data"
    }
   ],
   "source": [
    "five_highest_states.plot(kind='bar')"
   ]
  },
  {
   "cell_type": "code",
   "execution_count": 49,
   "metadata": {},
   "outputs": [
    {
     "data": {
      "text/plain": [
       "(array([0, 1, 2, 3, 4]), <a list of 5 Text xticklabel objects>)"
      ]
     },
     "execution_count": 49,
     "metadata": {},
     "output_type": "execute_result"
    },
    {
     "data": {
      "image/png": "[encoded data removed]",
      "text/plain": [
       "<Figure size 432x288 with 1 Axes>"
      ]
     },
     "metadata": {},
     "output_type": "display_data"
    }
   ],
   "source": [
    "five_highest_states.plot(kind='bar' , stacked=True)\n",
    "plt.xticks(rotation=30)"
   ]
  },
  {
   "cell_type": "code",
   "execution_count": 50,
   "metadata": {},
   "outputs": [],
   "source": [
    "five_highest_states['total'] = five_highest_states.sum(axis=1)"
   ]
  },
  {
   "cell_type": "code",
   "execution_count": 51,
   "metadata": {},
   "outputs": [],
   "source": [
    "five_highest_states = five_highest_states.apply(lambda x: round(100 * x/five_highest_states['total']))"
   ]
  },
  {
   "cell_type": "code",
   "execution_count": 52,
   "metadata": {},
   "outputs": [],
   "source": [
    "five_highest_states.drop('total', axis=1, inplace=True)"
   ]
  },
  {
   "cell_type": "code",
   "execution_count": 53,
   "metadata": {},
   "outputs": [
    {
     "data": {
      "text/plain": [
       "<matplotlib.axes._subplots.AxesSubplot at 0x148e9610fd0>"
      ]
     },
     "execution_count": 53,
     "metadata": {},
     "output_type": "execute_result"
    },
    {
     "data": {
      "image/png": "[encoded data removed]",
      "text/plain": [
       "<Figure size 432x288 with 1 Axes>"
      ]
     },
     "metadata": {},
     "output_type": "display_data"
    }
   ],
   "source": [
    "five_highest_states.plot(kind='bar', stacked=True)"
   ]
  },
  {
   "cell_type": "code",
   "execution_count": null,
   "metadata": {},
   "outputs": [],
   "source": []
  },
  {
   "cell_type": "code",
   "execution_count": null,
   "metadata": {},
   "outputs": [],
   "source": []
  }
 ],
 "metadata": {
  "kernelspec": {
   "display_name": "Python 3",
   "language": "python",
   "name": "python3"
  },
  "language_info": {
   "codemirror_mode": {
    "name": "ipython",
    "version": 3
   },
   "file_extension": ".py",
   "mimetype": "text/x-python",
   "name": "python",
   "nbconvert_exporter": "python",
   "pygments_lexer": "ipython3",
   "version": "3.7.3"
  },
  "latex_envs": {
   "LaTeX_envs_menu_present": true,
   "autoclose": false,
   "autocomplete": true,
   "bibliofile": "biblio.bib",
   "cite_by": "apalike",
   "current_citInitial": 1,
   "eqLabelWithNumbers": true,
   "eqNumInitial": 1,
   "hotkeys": {
    "equation": "Ctrl-E",
    "itemize": "Ctrl-I"
   },
   "labels_anchors": false,
   "latex_user_defs": false,
   "report_style_numbering": false,
   "user_envs_cfg": false
  }
 },
 "nbformat": 4,
 "nbformat_minor": 2
}
